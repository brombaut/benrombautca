{
 "cells": [
  {
   "cell_type": "markdown",
   "metadata": {},
   "source": [
    "# Data Structures From Scratch\n",
    "Here are some common data structures, implemented from scratch in Python. Each data structure includes a set of assertions that test the implementation."
   ]
  },
  {
   "cell_type": "markdown",
   "metadata": {},
   "source": [
    "## Stack\n",
    "\n",
    "A stack is a first-in, last-out (FILO) data structure. Think about how you would stack dinner plates on top of each other."
   ]
  },
  {
   "cell_type": "code",
   "execution_count": 13,
   "metadata": {},
   "outputs": [],
   "source": [
    "class Stack:\n",
    "    class StackNode:\n",
    "        def __init__(self, data):\n",
    "            self.data = data\n",
    "            self.next = None\n",
    "\n",
    "    def __init__(self):\n",
    "        self.top: self.StackNode = None\n",
    "\n",
    "    def pop(self):\n",
    "        if not self.top:\n",
    "            raise Exception(\"Empty Stack\")\n",
    "        data = self.top.data\n",
    "        self.top = self.top.next\n",
    "        return data\n",
    "\n",
    "    def push(self, item):\n",
    "        t = self.StackNode(item)\n",
    "        t.next = self.top\n",
    "        self.top = t\n",
    "\n",
    "    def peek(self):\n",
    "        if not self.top:\n",
    "            raise Exception(\"Empty Stack\")\n",
    "        return self.top.data\n",
    "\n",
    "    def is_empty(self):\n",
    "        return self.top == None"
   ]
  },
  {
   "cell_type": "code",
   "execution_count": 14,
   "metadata": {},
   "outputs": [],
   "source": [
    "stack = Stack()\n",
    "assert(stack.is_empty())\n",
    "\n",
    "stack.push(4)\n",
    "stack.push(2)\n",
    "assert(stack.peek() == 2)\n",
    "assert(not stack.is_empty())\n",
    "\n",
    "x = stack.pop()\n",
    "assert(x == 2)\n",
    "assert(stack.peek() == 4)\n",
    "assert(not stack.is_empty())\n",
    "\n",
    "stack.pop()\n",
    "assert(stack.is_empty())"
   ]
  },
  {
   "cell_type": "markdown",
   "metadata": {},
   "source": [
    "## Queue\n",
    "\n",
    "A queue is a first-in, first-out data structure. Think about how a line works when you're checking out at a grocery store."
   ]
  },
  {
   "cell_type": "code",
   "execution_count": 15,
   "metadata": {},
   "outputs": [],
   "source": [
    "class Queue:\n",
    "    class QueueNode:\n",
    "        def __init__(self, data):\n",
    "            self.data = data\n",
    "            self.next = None\n",
    "\n",
    "    def __init__(self):\n",
    "        self.first: self.QueueNode = None\n",
    "        self.last: self.QueueNode = None\n",
    "\n",
    "    def add(self, data):\n",
    "        t = self.QueueNode(data)\n",
    "        if self.last is not None:\n",
    "            self.last.next = t\n",
    "        self.last = t\n",
    "        if self.first is None:\n",
    "            self.first = self.last\n",
    "\n",
    "    def remove(self):\n",
    "        if self.first is None:\n",
    "            raise Exception(\"Empty Queue\")\n",
    "        data = self.first.data\n",
    "        self.first = self.first.next\n",
    "        if self.first is None:\n",
    "            self.last = None\n",
    "        return data\n",
    "\n",
    "    def peek(self):\n",
    "        if self.first is None:\n",
    "            raise Exception(\"Empty Queue\")\n",
    "        return self.first.data\n",
    "\n",
    "    def is_empty(self):\n",
    "        return self.first is None"
   ]
  },
  {
   "cell_type": "code",
   "execution_count": 21,
   "metadata": {},
   "outputs": [],
   "source": [
    "queue = Queue()\n",
    "assert(queue.is_empty())\n",
    "\n",
    "queue.add(4)\n",
    "queue.add(2)\n",
    "assert(queue.peek() == 4)\n",
    "assert(not queue.is_empty())\n",
    "\n",
    "x = queue.remove()\n",
    "assert(x == 4)\n",
    "assert(queue.peek() == 2)\n",
    "assert(not queue.is_empty())\n",
    "\n",
    "queue.remove()\n",
    "assert(queue.is_empty())"
   ]
  },
  {
   "cell_type": "markdown",
   "metadata": {},
   "source": [
    "## Linked List"
   ]
  },
  {
   "cell_type": "code",
   "execution_count": 6,
   "metadata": {},
   "outputs": [],
   "source": [
    "class Node:\n",
    "    def __init__(self, d):\n",
    "        self.next = None\n",
    "        self.data = d\n",
    "\n",
    "    def append_to_tail(self, d):\n",
    "        end = Node(d)\n",
    "        n = self\n",
    "        while n.next is not None:\n",
    "            n = n.next\n",
    "        n.next = end\n",
    "\n",
    "    def delete_node(self, head, d):\n",
    "        n = head\n",
    "        if n.data == d:\n",
    "            return head.next\n",
    "        while n.next is not None:\n",
    "            if n.next.data == d:\n",
    "                n.next = n.next.next\n",
    "                return head\n",
    "            n = n.next\n",
    "        return head\n",
    "\n",
    "    def find(self, head, d):\n",
    "        n = head\n",
    "        while n:\n",
    "            if n.data == d:\n",
    "                return n.data\n",
    "            n = n.next\n",
    "        return None\n",
    "\n",
    "class LinkedList:\n",
    "    def __init__(self, d):\n",
    "        self.head = Node(d)\n",
    "\n",
    "    def append_to_tail(self, d):\n",
    "        self.head.append_to_tail(d)\n",
    "\n",
    "    def delete_node(self, d):\n",
    "        self.head = self.head.delete_node(self.head, d)\n",
    "\n",
    "    def linked_list_as_list(self):\n",
    "        result = list()\n",
    "        n = self.head\n",
    "        while n is not None:\n",
    "            result.append(n.data)\n",
    "            n = n.next\n",
    "        return result\n",
    "\n",
    "    def find(self, d):\n",
    "        return self.head.find(self.head, d)"
   ]
  },
  {
   "cell_type": "code",
   "execution_count": 7,
   "metadata": {},
   "outputs": [],
   "source": [
    "ll = LinkedList(4)\n",
    "ll.append_to_tail(6)\n",
    "assert(ll.linked_list_as_list() == [4, 6])\n",
    "\n",
    "ll.append_to_tail(8)\n",
    "assert(ll.linked_list_as_list() == [4, 6, 8])\n",
    "ll.delete_node(4)\n",
    "assert(ll.linked_list_as_list() == [6, 8])\n",
    "assert(ll.find(8) == 8)\n",
    "\n"
   ]
  },
  {
   "cell_type": "markdown",
   "metadata": {},
   "source": [
    "## Hash Table\n",
    "\n",
    "In a simple hash map implementation, we use an array of linked lists and a hash code function. To insert a key (which might be a strin g or essentially any other data type) and value, we do the following:\n",
    "\n",
    "1. First, compute the key's hash code. Note that two different keys could have the same hash code, as there may be an infinite number of keys and a finite number of hash codes.\n",
    "2. Then map the hash code to an index in the array. This could be done with something like `hash(key) % array_length`. Two different hash codes could, of course, map to the same index.\n",
    "3. At this index, there is a linked list of keys and values. Store they key and value in this index. We must use a linked list because of collisions: you could have two different keys with the same has code, or two different hash codes that map to the same index.\n",
    "\n",
    "To retrieve the value pair by its key, you repeat the process. Compute the hash code from the key, and then compute the index from the hash code. Then, search through the linked list for the value with this key."
   ]
  },
  {
   "cell_type": "code",
   "execution_count": 9,
   "metadata": {},
   "outputs": [],
   "source": [
    "class HashMap:\n",
    "    class KeyValPair:\n",
    "        def __init__(self, k, v):\n",
    "            self.key = k\n",
    "            self.val = v\n",
    "            self.next = None\n",
    "\n",
    "    def __init__(self):\n",
    "        self.array_len = 5\n",
    "        self.array = [None] * self.array_len\n",
    "    \n",
    "    def add(self, key, value):\n",
    "        h = hash(key)\n",
    "        array_pos = h % self.array_len\n",
    "        if self.array[array_pos] is None:\n",
    "            self.array[array_pos] = self.KeyValPair(key, value)\n",
    "        else:\n",
    "            kv = self.array[array_pos]\n",
    "            if kv.key == key:\n",
    "                    kv.val = value\n",
    "                    return\n",
    "            while kv.next is not None:\n",
    "                if kv.key == key:\n",
    "                    kv.val = value\n",
    "                    return\n",
    "                kv = kv.next\n",
    "            kv.next = self.KeyValPair(key, value)\n",
    "\n",
    "    def get(self, key):\n",
    "        h = hash(key)\n",
    "        array_pos = h % self.array_len\n",
    "        kv = self.array[array_pos]\n",
    "        while kv is not None:\n",
    "            if kv.key == key:\n",
    "                return kv.val\n",
    "            kv = kv.next\n",
    "        return None\n",
    "\n"
   ]
  },
  {
   "cell_type": "code",
   "execution_count": 10,
   "metadata": {},
   "outputs": [],
   "source": [
    "hm = HashMap()\n",
    "hm.add(\"alice\", \"smith\")\n",
    "hm.add(\"john\", \"doe\")\n",
    "assert(hm.get(\"alice\") == \"smith\")\n",
    "assert(hm.get(\"john\") == \"doe\")\n",
    "assert(hm.get(\"ben\") is None)\n",
    "hm.add(\"alice\", \"doe\")\n",
    "assert(hm.get(\"alice\") == \"doe\")\n"
   ]
  },
  {
   "cell_type": "markdown",
   "metadata": {},
   "source": [
    "## Array List\n",
    "\n",
    "In some languages, arrays (often called lists in this case) are automatically resizable. The array or list will grow as you append items. In other languages, like Java, arrays are fixed length. The size is defined when you create the array.\n",
    "\n",
    "When you need an array-like data structure that offers dynamic resizing, you would usually use an `ArrayList`. An `ArrayList` is an array that resizes itself as needed while still providing O(1) access. A typical implementation is that when the array is full, the array doubles in size. Each doubling takes O(n) time, but happens so rarely that its amortized insertion time is still O(1)."
   ]
  },
  {
   "cell_type": "code",
   "execution_count": 1,
   "metadata": {},
   "outputs": [],
   "source": [
    "class ArrayList:\n",
    "    def __init__(self):\n",
    "        self._length = 1\n",
    "        self._end_pointer = 0\n",
    "        self._inner_array = [None] * self._length\n",
    "        self._expand_factor = 2\n",
    "\n",
    "    def size(self):\n",
    "        return self._end_pointer\n",
    "\n",
    "    def add(self, d):\n",
    "        self._inner_array[self._end_pointer] = d\n",
    "        self._end_pointer += 1\n",
    "        if self._end_pointer >= self._length:\n",
    "            self._expand_array()\n",
    "\n",
    "    def set(self, idx, d):\n",
    "        while idx >= self._length:\n",
    "            self._expand_array()\n",
    "        self._inner_array[idx] = d\n",
    "\n",
    "    def get(self, idx):\n",
    "        while idx >= self._length:\n",
    "            self._expand_array()\n",
    "        return self._inner_array[idx]\n",
    "\n",
    "    def _expand_array(self):\n",
    "        self._length = self._length * self._expand_factor\n",
    "        new_array = [None] * self._length\n",
    "        for i in range(self._end_pointer):\n",
    "            new_array[i] = self._inner_array[i]\n",
    "        self._inner_array = new_array\n"
   ]
  },
  {
   "cell_type": "code",
   "execution_count": 3,
   "metadata": {},
   "outputs": [],
   "source": [
    "al = ArrayList()\n",
    "assert(al.size() == 0)\n",
    "al.add(\"apple\")\n",
    "al.add(\"banana\")\n",
    "al.add(\"tomato\")\n",
    "al.add(\"pear\")\n",
    "assert(al.size() == 4)\n",
    "assert(al.get(0) == \"apple\")\n",
    "assert(al.get(3) == \"pear\")\n",
    "assert(al.get(4) == None)\n",
    "assert(al.get(100) == None)\n",
    "al.set(1, \"squash\")\n",
    "assert(al.get(1) == \"squash\")\n"
   ]
  },
  {
   "cell_type": "markdown",
   "metadata": {},
   "source": [
    "## StringBuilder\n",
    "\n",
    "Imagine your were concatenating a list of strings, as shown below. What would the running time of this code be? For simplicity, assume that the strings are all the same length (call it $x$) and that there are $n$ strings.\n",
    "\n",
    "```java\n",
    "String joinWords(String[] words) {\n",
    "  String sentence = \"\";\n",
    "  for (String w : words) {\n",
    "    sentence = sentence + w;\n",
    "  }\n",
    "  return sentence;\n",
    "}\n",
    "```\n",
    "\n",
    "On each concatenation, a new copy of the string is created, and the two strings are copied over, character by character. The first iteration requires us to copy $x$ characters. The second iteration requires copying $2x$ characters. The third iteration requires $3x$, and so on. The total time therefore is $O(x + 2x + ... + nx)$. This reduces to $O(xn^2)$.\n",
    "\n",
    "`StringBuilder` can help you avoid this problem. `StringBuilder` simply creates a resizable array of all the strings, copying them back to a string only when necessary.\n",
    "\n",
    "```java\n",
    "String joinWords(String[] words) {\n",
    "  StringBuilder sentence = new StringBuilder();\n",
    "  for (String w : words) {\n",
    "    sentence.append(w);\n",
    "  }\n",
    "  return sentence.toString();\n",
    "}\n",
    "```\n",
    "\n",
    "A quick Python implementation:"
   ]
  },
  {
   "cell_type": "code",
   "execution_count": 1,
   "metadata": {},
   "outputs": [],
   "source": [
    "class StringBuilder:\n",
    "    def __init__(self):\n",
    "        self._words = list()\n",
    "    def append(self, word):\n",
    "        self._words.append(word)\n",
    "    def to_string(self):\n",
    "        return \"\".join(self._words)"
   ]
  },
  {
   "cell_type": "code",
   "execution_count": 2,
   "metadata": {},
   "outputs": [],
   "source": [
    "sb = StringBuilder()\n",
    "sb.append(\"hello\")\n",
    "sb.append(\"there\")\n",
    "assert(sb.to_string() == \"hellothere\")"
   ]
  },
  {
   "cell_type": "code",
   "execution_count": 5,
   "metadata": {},
   "outputs": [
    {
     "name": "stdout",
     "output_type": "stream",
     "text": [
      "[NbConvertApp] Converting notebook ./data_structures_from_scratch.ipynb to markdown\n",
      "[NbConvertApp] Writing 9903 bytes to data_structures_from_scratch.md\n"
     ]
    }
   ],
   "source": [
    "def create_md_of_notebook():\n",
    "    !jupyter nbconvert ./data_structures_from_scratch.ipynb --to markdown\n",
    "\n",
    "create_md_of_notebook()"
   ]
  },
  {
   "cell_type": "code",
   "execution_count": null,
   "metadata": {},
   "outputs": [],
   "source": []
  }
 ],
 "metadata": {
  "kernelspec": {
   "display_name": "Python 3.10.4 ('articles')",
   "language": "python",
   "name": "python3"
  },
  "language_info": {
   "codemirror_mode": {
    "name": "ipython",
    "version": 3
   },
   "file_extension": ".py",
   "mimetype": "text/x-python",
   "name": "python",
   "nbconvert_exporter": "python",
   "pygments_lexer": "ipython3",
   "version": "3.10.4"
  },
  "orig_nbformat": 4,
  "vscode": {
   "interpreter": {
    "hash": "f79b786778e7e03368a04228457666598692b04fa857319f42c891afa923c595"
   }
  }
 },
 "nbformat": 4,
 "nbformat_minor": 2
}
