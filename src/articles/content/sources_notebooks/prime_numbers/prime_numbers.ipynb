{
 "cells": [
  {
   "cell_type": "code",
   "execution_count": 20,
   "metadata": {},
   "outputs": [
    {
     "name": "stdout",
     "output_type": "stream",
     "text": [
      "[NbConvertApp] Converting notebook ./prime_numbers.ipynb to markdown\n",
      "[NbConvertApp] Writing 4804 bytes to prime_numbers.md\n"
     ]
    }
   ],
   "source": [
    "def create_md_of_notebook():\n",
    "    !jupyter nbconvert ./prime_numbers.ipynb --to markdown\n",
    "\n",
    "create_md_of_notebook()"
   ]
  },
  {
   "cell_type": "markdown",
   "metadata": {},
   "source": [
    "# Prime Numbers\n",
    "Every positive integer can be decomposed into a product of primes. For example:\n",
    "\n",
    "$84 = 2^2 * 3^1 * 5^0 * 7^1 * 11^0 * 13^0 * 17^0 * ...$\n",
    "\n",
    "Note that many of these primes have an exponent of zero.\n",
    "\n",
    "## Divisibility\n",
    "\n",
    "The prime number law stated above means that, in order for a number $x$ to be divisiable by a number $y$ (written `x\\y` or `mod(y, x) = 0`), all primes in $x$'s prime factorization must be in $y$'s prime factorization. Or, more specifically:\n",
    "\n",
    "Let: $x = 2^{j0} * 3^{j1} * 5^{j2} * 7^{j3} * 11^{j4} * ...$\n",
    "\n",
    "Let: $y = 2^{k0} * 3^{k1} * 5^{k2} * 7^{k3} * 11^{k4} * ...$\n",
    "\n",
    "If `x\\y`, then for all `i`, `ji <= ki`\n",
    "\n",
    "In fact, the greatest common divisor of `x` and `y` will be:\n",
    "\n",
    "$gcd(x, y) = 2^{min(j0, k0)} * 3^{min(j1, k1)} * 5^{min(j2, k2)} * ...$\n",
    "\n",
    "The least common multiple of `x` and `y` will be:\n",
    "\n",
    "$lcm(x, y) = 2^{max(j0, k0)} * 3^{max(j1, k1)} * 5^{max(j2, k2)} * ...$\n",
    "\n",
    "> As an exercise, what do you think $gcd * lcm$ is?\n",
    ">\n",
    "> $gcd * lcm = 2^{min(j0, k0)} * 2^{max(j0, k0)} * 3^{min(j1, k1)} * 3^{max(j1, k1)} * ...$\n",
    ">\n",
    "> $gcd * lcm = 2^{min(j0, k0) + max(j0, k0)} * 3^{min(j1, k1) + max(j1, k1)} * ...$\n",
    ">\n",
    "> $gcd * lcm = 2^{j0 + k0} * 3^{j1 + k1} * ...$\n",
    ">\n",
    "> $gcd * lcm = 2^{j0} * 2^{k0} * 3^{j1} * 3^{k1} * ...$\n",
    "> \n",
    "> $gcd * lcm = xy$\n"
   ]
  },
  {
   "cell_type": "markdown",
   "metadata": {},
   "source": [
    "## Checking for Primailty\n",
    "The naive way to check for primality is to simply iterate from 2 through $n-1$, checking for diviibility on each iteration."
   ]
  },
  {
   "cell_type": "code",
   "execution_count": 17,
   "metadata": {},
   "outputs": [
    {
     "name": "stdout",
     "output_type": "stream",
     "text": [
      "19.2 ms ± 4.35 ms per loop (mean ± std. dev. of 7 runs, 10 loops each)\n",
      "True\n"
     ]
    }
   ],
   "source": [
    "def prime_naive(n):\n",
    "    if n < 2:\n",
    "        return False\n",
    "    for i in range(2, n):\n",
    "        if n % i == 0:\n",
    "            return False\n",
    "    return True\n",
    "\n",
    "%timeit prime_naive(104729)\n",
    "print(prime_naive(104729))"
   ]
  },
  {
   "cell_type": "markdown",
   "metadata": {},
   "source": [
    "A small but important improvement is to iterate only up through the square root of n."
   ]
  },
  {
   "cell_type": "code",
   "execution_count": 18,
   "metadata": {},
   "outputs": [
    {
     "name": "stdout",
     "output_type": "stream",
     "text": [
      "15.4 ms ± 5.13 ms per loop (mean ± std. dev. of 7 runs, 10 loops each)\n",
      "True\n"
     ]
    }
   ],
   "source": [
    "import math\n",
    "\n",
    "def prime_slightly_better(n):\n",
    "    if n < 2:\n",
    "        return False\n",
    "    for i in range(2, math.floor(math.sqrt(n))):\n",
    "        if n % i == 0:\n",
    "            return False\n",
    "    return True\n",
    "\n",
    "%timeit prime_naive(104729)\n",
    "print(prime_naive(104729))"
   ]
  },
  {
   "cell_type": "markdown",
   "metadata": {},
   "source": [
    "The $n^{1/2}$ is sufficient because, for every number $a$ which divides $n$ evenly, there is a complement $b$, where $a * b = n$. If $a > n^{1/2}$, then $b < n^{1/2}$. We therfore don't need $a$ to check $n$'s primailty, since we would have already checked with $b$.\n",
    "\n",
    "Of course, in reality, all we really need to do is to check if $n$ is divisible by a prime number."
   ]
  },
  {
   "cell_type": "markdown",
   "metadata": {},
   "source": [
    "### Generating a List of Primes: The Sieve of Eratosthenes\n",
    "\n",
    "The Sieve of Eratosthenes is a highly efficient way to generate a list of primes. It works by recognizing that all non-prime numbers are divisible by a prime number.\n",
    "\n",
    "We start with a list of all the numbers up through some value `max`. First, we cross off all numbers divisible by 2. Then, we look for the next prime (the next non-crossed off number) and cross off all numbers divisible by it. By crossing off all numbers divisible by 2, 3, 5, 7, 11, and so on, we wind up with a list of prime numbers from 2 through `max`.\n",
    "\n",
    "The code below implements the Sieve of Eratosthenes:"
   ]
  },
  {
   "cell_type": "code",
   "execution_count": 19,
   "metadata": {},
   "outputs": [
    {
     "name": "stdout",
     "output_type": "stream",
     "text": [
      "List of primes up to 11:\n",
      "[False, False, True, True, False, True, False, True, False, False, False, True]\n",
      "\n",
      "86.7 ms ± 38.2 ms per loop (mean ± std. dev. of 7 runs, 10 loops each)\n",
      "True\n"
     ]
    }
   ],
   "source": [
    "def sieve_of_eratosthenes(max):\n",
    "    flags = [True for _ in range(0, max+1)]\n",
    "    flags[0] = False\n",
    "    flags[1] = False\n",
    "    count = 0\n",
    "    prime = 2\n",
    "    while prime <= math.sqrt(max):\n",
    "        # Cross off remaining multiples of prime\n",
    "        cross_off(flags, prime)\n",
    "        # Find next value which is true\n",
    "        prime = get_next_prime(flags, prime)\n",
    "    return flags\n",
    "\n",
    "def cross_off(flags, prime):\n",
    "    # Cross off remaining multiples of prime.\n",
    "    # We canstart with (prime*prime), because if we have a k*prime,\n",
    "    # where k < prime, this value would have already been crossed\n",
    "    # off in a prior iteration.\n",
    "    i = prime*prime\n",
    "    while i < len(flags):\n",
    "        flags[i] = False\n",
    "        i += prime\n",
    "\n",
    "def get_next_prime(flags, prime):\n",
    "    next_prime = prime + 1\n",
    "    while next_prime < len(flags) and not flags[next_prime]:\n",
    "        next_prime += 1\n",
    "    return next_prime\n",
    "\n",
    "test_prime = 11\n",
    "print(f\"List of primes up to {test_prime}:\")\n",
    "print(sieve_of_eratosthenes(test_prime))\n",
    "print()\n",
    "test_large_prime = 104729\n",
    "%timeit sieve_of_eratosthenes(test_large_prime)\n",
    "print(sieve_of_eratosthenes(test_large_prime)[test_large_prime])"
   ]
  },
  {
   "cell_type": "markdown",
   "metadata": {},
   "source": [
    "Of course, there are a number of optimizations that can be made to this. One simple one is to only use off numbers in the array, which would allow us to reduce our space usage by half."
   ]
  }
 ],
 "metadata": {
  "kernelspec": {
   "display_name": "Python 3.10.4 ('articles')",
   "language": "python",
   "name": "python3"
  },
  "language_info": {
   "codemirror_mode": {
    "name": "ipython",
    "version": 3
   },
   "file_extension": ".py",
   "mimetype": "text/x-python",
   "name": "python",
   "nbconvert_exporter": "python",
   "pygments_lexer": "ipython3",
   "version": "3.10.4"
  },
  "orig_nbformat": 4,
  "vscode": {
   "interpreter": {
    "hash": "f79b786778e7e03368a04228457666598692b04fa857319f42c891afa923c595"
   }
  }
 },
 "nbformat": 4,
 "nbformat_minor": 2
}
