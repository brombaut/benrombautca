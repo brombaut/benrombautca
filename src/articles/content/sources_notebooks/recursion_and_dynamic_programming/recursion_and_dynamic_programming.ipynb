{
 "cells": [
  {
   "cell_type": "markdown",
   "metadata": {},
   "source": [
    "# Recursion and Dynamic Programming (Briefly)"
   ]
  },
  {
   "cell_type": "markdown",
   "metadata": {},
   "source": [
    "## How to Approach\n",
    "\n",
    "Recursive solutions, by definition, are built off of solutions to subproblems. Many times, this will mean simply to compute `f(n)` by adding something, removing something, or otherwise changing the solution for `f(n-1)`. In other cases, you might solve the problem for the first half of the data set, then the second half, then merge those results.\n",
    "\n",
    "There are many ways you might divide a problem into subproblems. Three of the most common approaches to develop an algorithm are bottom-up, top-down, and half-and-half."
   ]
  },
  {
   "cell_type": "markdown",
   "metadata": {},
   "source": [
    "#### Bottom-Up Approach\n",
    "\n",
    "The bottom-up approach is often the most intuitive. We start with knowing how to solve the problem for a simple case, like a list with only one element. Then we figure out how to solve the problem for two elements, then for three elements, and so on. The key here is to think about how you can _build_ the solution for one case off of the previous case (or multiple previous cases)."
   ]
  },
  {
   "cell_type": "markdown",
   "metadata": {},
   "source": [
    "#### Top-Down Approach\n",
    "\n",
    "The top-down approach can be more complex since it's less concrete. But soetimes, it's the best way to think about the problem.\n",
    "\n",
    "In these problems, we think about how we can divide the problem for case `N` into subproblems.\n",
    "\n",
    "Be careful of overlap between the cases."
   ]
  },
  {
   "cell_type": "markdown",
   "metadata": {},
   "source": [
    "#### Half-and-Half Approach\n",
    "In addition to top-down and bottom-up approaches, it's often effective to divide the data set in half.\n",
    "\n",
    "For example, binary search works with a \"half-and-half\" approach. When we look for an element in a sorted array, we first figure out which half of the array contains the value. Then we recurse and search for it in that half.\n",
    "\n",
    "Merge sort is also a \"half-and-half\" approach. We sort each half of the array and then merge together the sorted halves."
   ]
  },
  {
   "cell_type": "markdown",
   "metadata": {},
   "source": [
    "### Recursive vs. Iterative Solutions\n",
    "\n",
    "Recursive algorithms can be very space inefficient. Each recursive call adds a new layer to the stack, which means that if your algorithm recurses to a depth of `n`, it uses at least `O(n)` memory.\n",
    "\n",
    "For this reason, it's often better to implement a recursive algorithm iteratively. _All_ recursive algorithms can be implemented iteratively, although sometimes the code to do so is much more complex. Before diving into recursive code, ask yourself how hard it would be to implement it iteratively, and consider the tradeoffs of each approach."
   ]
  },
  {
   "cell_type": "markdown",
   "metadata": {},
   "source": [
    "## Dynamic Programming & Memoization\n",
    "\n",
    "Although people make a big deal about how scary dynamic programming problems are, there's really no need to be afraid of them. In fact, once you get the hang of them, these can actually be very easy problems.\n",
    "\n",
    "Dynamic programming is mostly just a matter of taking a recursive algorithm and finding the overlapping subproblems (that is, the repeated calls). You then cache those results for future recursive calls.\n",
    "\n",
    "Alternatively, you can study the pattern of the recursive calls and implement something iterative. You still \"cache\" previous work.\n",
    "\n",
    "> A note on terminology: Some people call top-down dynamic programming \"memoization\" and only use \"dynamic programming\" to refer to bottom-up work.\n",
    "\n",
    "One of the simplest examples of dynamic programming is computing the nth Fibonacci number. A good way to approach such a problem is often to implement it as a normal recursive solution, and then add the caching part."
   ]
  },
  {
   "cell_type": "markdown",
   "metadata": {},
   "source": [
    "## Fibonacci Numbers\n",
    "\n",
    "We'll walk through a couple approaches to compute the nth Fibonacci number."
   ]
  },
  {
   "cell_type": "markdown",
   "metadata": {},
   "source": [
    "#### Recursive\n",
    "\n",
    "We will start with a recursive implementation.\n",
    "\n",
    "```java\n",
    "int fib(int i) {\n",
    "  if (i == 0) return 0;\n",
    "  if (i == 1) return 1;\n",
    "  return fib(i - 1) + fib(i - 2);\n",
    "}\n",
    "```\n",
    "What is the runtime of this function? If you said $O(n)$ or $O(n^2)$ (as many people do), these are not correct. Study the code path that the code takes. Drawing the code paths as a tree (that is, the recursion tree) is useful on this and many recusrive problems.\n",
    "\n",
    "![png](recursion_and_dynamic_programming_files/00_tree_fib_recursive.png)\n",
    "\n",
    "Observe that the leaves on the tree are all `fib(1)` and `fib(0)`. Those signify the base cases.\n",
    "\n",
    "The total number of nodes in the tree will represent the runtime, since each call only does $O(1)$ work outside of its recursive calls. Therefore, the number of calls is the runtime.\n",
    "\n",
    "How many nodes are in the tree? Until we get down to the base cases (leaves), each node has two children. Each node branches out twice.\n",
    "\n",
    "The root node has two children. Each of those children has two children (so four children total in the \"grand-children\" level). Each of those grand-children has two children, and so on. If we do this $n$ times, we'll have roughly $O(2^n)$ nodes. This gives us a runtime of roughly $O(2^n)$.\n",
    "\n",
    "> Actually, it's slightly better than $O(2^n)$. If you look at the subtree, you might notice that (excluding the leaf nodes and those immediately above it) the right subtree of any node is always smaller than the left subtree. If they were the same size, we'd have an $O(2^n)$ runtime. But since the right and left subtrees are not the same size, the true runtime is closer to $O(1.6^n)$. Saying $O(2^n)$ is still technically correct though as it describes an upper bound on the runtime.\n",
    "\n",
    "Indeed, if we were to implement this on a computer and time it, we would see the number of seconds to run the function to completion increases exponentially.\n",
    "\n",
    "We should look for a way to optimize this."
   ]
  },
  {
   "cell_type": "markdown",
   "metadata": {},
   "source": [
    "#### Top-Down Dynamic Porgramming (or Memoization)\n",
    "\n",
    "Have a look at the recursion tree above. Where do you see identical nodes?\n",
    "\n",
    "There are lots of identical nodes. For example, `fib(3)` appears twice and `fib(2)` appears three times. Why should we recompute these from scratch each time?\n",
    "\n",
    "In fact, when we call `fib(n)`, we shouldn't have to do much more than $O(n)$ calls, since there's only $O(n)$ possible values we can throw at `fib`. Each time we compute `fib(1)`, we should just cache this result and use it later.\n",
    "\n",
    "This is exactly what memoization is.\n",
    "\n",
    "With just a small modification, we can tweak this function to run in $O(n)$ time. We simply cache the results of `fib(i)` between calls.\n",
    "\n",
    "```java\n",
    "int fib(int n) {\n",
    "  return fib(n, new int[n + 1]);\n",
    "}\n",
    "\n",
    "int fib(int i, int[] memo) {\n",
    "  if (i == 0 || i == 1) return i;\n",
    "\n",
    "  if (memo[i] == 0) {\n",
    "    memo[i] = fib(i - 1, memo) + fib(i - 2, memo);\n",
    "  }\n",
    "  return memo[i];\n",
    "}\n",
    "```\n",
    "\n",
    "While the first recursive function may take over a minute to generate the 50th Fibonacci number on a typical computer, the dynamic programming method can generate the 10,000th Fibonacci number in just fractions of a millisecond. (Of course, with this exact code, the `int` would have overflowed very early on.)\n",
    "\n",
    "Now if we draw the recursion tree, it looks something like this (the black boxes represent cached calls that returned immediately):\n",
    "\n",
    "![png](recursion_and_dynamic_programming_files/01_tree_fib_top_down_imbalanced.png)\n",
    "\n",
    "How many nodes are in this tree now? We might notice that the tree now just shoots straight down, to a depth of roughly $n$. Each node of those nodes has one other child, resulting in roughly $2n$ children in the tree. This gives us a runtime of $O(n)$.\n",
    "\n",
    "Often it can be useful to picture the recursion tree as something like this:\n",
    "\n",
    "![png](recursion_and_dynamic_programming_files/02_tree_fib_top_down_balanced.png)\n",
    "\n",
    "This is not actually how the recusrion occurred. However, by expanding the further up nodes rather than the lower nodes, you have a tree that grows wide before it grows deep. (It's like doing this breadth-first rather than depth-first.) Sometimes this makes it easier to compute the number of nodes in the tree. All you're really doing is changing which nodes you expand and which ones return cached values. Try this if you're stuck on computing the runtime of a dynamic programming problem."
   ]
  },
  {
   "cell_type": "markdown",
   "metadata": {},
   "source": [
    "#### Bottom-Up Dynamic Programming\n",
    "\n",
    "We can also take this approach and implement it with bottom-up dynamic programming. Think about doing the same things as the recursive memoized approach, but in reverse.\n",
    "\n",
    "First, we compute `fib(1)` and `fib(0)`, which are already known from the base cases. Then we use those to compute `fib(2)`. Then we use the prior answers to compute `fib(3)`, then `fib(4)`, and so on.\n",
    "\n",
    "```java\n",
    "int fib(int n) {\n",
    "  if (n == 0 || n == 1) return n;\n",
    "\n",
    "  int[] memo = new int[n];\n",
    "  memo[0] = 0;\n",
    "  memo[1] = 1;\n",
    "  for (int i = 2; i < n; i++) {\n",
    "    memo[i] = memo[i - 1] + memo[i - 2];\n",
    "  }\n",
    "  return memo[n - 1] + memo[n - 2];\n",
    "}\n",
    "```\n",
    "\n",
    "If you really think about how this works, you only use `memo[i]` for `memo[i+1]` and `memo[i+2]`. You don't need it after that. Therefore, we can get rid of the `memo` table and just store a few variables.\n",
    "\n",
    "```java\n",
    "int fib(int n) {\n",
    "  if (n == 0) return 0;\n",
    "  int a = 0;\n",
    "  int b = 1;\n",
    "  for (int i = 2; i < n; i++) {\n",
    "    int c = a + b;\n",
    "    a = b;\n",
    "    b = c;\n",
    "  }\n",
    "  return a + b;\n",
    "}\n",
    "```\n",
    "\n",
    "This is basically storing the results from the last two Fibonacci values into `a` and `b`. At each iteration, we compute the next value (`c = a + b`) and then move `(b, c = a + b)` into `(a, b)`."
   ]
  },
  {
   "cell_type": "markdown",
   "metadata": {},
   "source": []
  },
  {
   "cell_type": "code",
   "execution_count": 1,
   "metadata": {},
   "outputs": [
    {
     "name": "stdout",
     "output_type": "stream",
     "text": [
      "[NbConvertApp] Converting notebook ./recursion_and_dynamic_programming.ipynb to markdown\n",
      "[NbConvertApp] Writing 9078 bytes to recursion_and_dynamic_programming.md\n"
     ]
    }
   ],
   "source": [
    "def create_md_of_notebook():\n",
    "    !jupyter nbconvert ./recursion_and_dynamic_programming.ipynb --to markdown\n",
    "\n",
    "create_md_of_notebook()"
   ]
  },
  {
   "cell_type": "code",
   "execution_count": null,
   "metadata": {},
   "outputs": [],
   "source": []
  }
 ],
 "metadata": {
  "kernelspec": {
   "display_name": "Python 3.10.4 ('articles')",
   "language": "python",
   "name": "python3"
  },
  "language_info": {
   "codemirror_mode": {
    "name": "ipython",
    "version": 3
   },
   "file_extension": ".py",
   "mimetype": "text/x-python",
   "name": "python",
   "nbconvert_exporter": "python",
   "pygments_lexer": "ipython3",
   "version": "3.10.4"
  },
  "orig_nbformat": 4,
  "vscode": {
   "interpreter": {
    "hash": "f79b786778e7e03368a04228457666598692b04fa857319f42c891afa923c595"
   }
  }
 },
 "nbformat": 4,
 "nbformat_minor": 2
}
